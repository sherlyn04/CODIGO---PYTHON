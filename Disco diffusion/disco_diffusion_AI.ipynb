{
  "nbformat": 4,
  "nbformat_minor": 0,
  "metadata": {
    "colab": {
      "provenance": [],
      "gpuType": "T4"
    },
    "kernelspec": {
      "name": "python3",
      "display_name": "Python 3"
    },
    "language_info": {
      "name": "python"
    },
    "accelerator": "GPU"
  },
  "cells": [
    {
      "cell_type": "code",
      "source": [
        "from google.colab import drive\n",
        "drive.mount('/content/drive')"
      ],
      "metadata": {
        "colab": {
          "base_uri": "https://localhost:8080/"
        },
        "id": "jRdKnJe9KZgE",
        "outputId": "917254e4-03ec-4a57-f668-5ffae231937e"
      },
      "execution_count": 1,
      "outputs": [
        {
          "output_type": "stream",
          "name": "stdout",
          "text": [
            "Mounted at /content/drive\n"
          ]
        }
      ]
    },
    {
      "cell_type": "code",
      "execution_count": null,
      "metadata": {
        "id": "850Aj6UcKaA0"
      },
      "outputs": [],
      "source": [
        "# Instalamos dependencias\n",
        "!pip install diffusers transformers torch\n",
        "\n",
        "from diffusers import DiffusionPipeline\n",
        "import torch\n",
        "import os\n",
        "from PIL import Image\n",
        "from huggingface_hub import login\n",
        "\n",
        "# Autenticación en Hugging Face\n",
        "login()\n",
        "\n",
        "def setup_folders(base_output_dir):\n",
        "    categories = [\"faces\", \"landscapes\", \"art\"]\n",
        "    languages = [\"english\", \"spanish\"]\n",
        "    for category in categories:\n",
        "        for lang in languages:\n",
        "            os.makedirs(f\"{base_output_dir}/{category}/{lang}\", exist_ok=True)\n",
        "\n",
        "def generate_images(pipe, prompts, base_output_dir, num_images=100):\n",
        "    for category, langs in prompts.items():\n",
        "        for lang, prompt in langs.items():\n",
        "            path = f\"{base_output_dir}/{category}/{lang}\"\n",
        "            for i in range(num_images):\n",
        "                image = pipe(prompt).images[0]\n",
        "                image.save(f\"{path}/{lang}_image_{i+1}.png\")\n",
        "                print(f\"Imagen {i+1} guardada en {path}\")\n",
        "\n",
        "# Prompts\n",
        "prompts = {\n",
        "    \"faces\": {\n",
        "        \"spanish\": \"Crea una imagen de un rostro humano que exprese felicidad y alegría.\",\n",
        "        \"english\": \"Create an image of a human face expressing happiness and joy.\"\n",
        "    },\n",
        "    \"landscapes\": {\n",
        "        \"spanish\": \"Crea una imagen de una puesta de sol en una playa tropical con palmeras y aguas cristalinas.\",\n",
        "        \"english\": \"Create an image of a sunset on a tropical beach with palm trees and crystal-clear water.\"\n",
        "    },\n",
        "    \"art\": {\n",
        "        \"spanish\": \"Crea una representación artística de la 'Mona Lisa' de Leonardo Da Vinci en estilo abstracto.\",\n",
        "        \"english\": \"Create an artistic representation of Leonardo Da Vinci’s 'Mona Lisa' in an abstract style.\"\n",
        "    }\n",
        "}\n",
        "\n",
        "# Generación con Disco Diffusion\n",
        "base_output_dir = \"/content/drive/MyDrive/disco_diffusion\"\n",
        "setup_folders(base_output_dir)\n",
        "pipe = DiffusionPipeline.from_pretrained(\"sd-dreambooth-library/disco-diffusion-style\", torch_dtype=torch.float16).to(\"cuda\")\n",
        "generate_images(pipe, prompts, base_output_dir)\n"
      ]
    }
  ]
}